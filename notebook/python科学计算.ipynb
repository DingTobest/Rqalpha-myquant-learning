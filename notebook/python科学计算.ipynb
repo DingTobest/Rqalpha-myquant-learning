{
 "cells": [
  {
   "cell_type": "code",
   "execution_count": 1,
   "metadata": {
    "collapsed": true
   },
   "outputs": [],
   "source": [
    "import scipy.stats as stats\n",
    "import numpy as np"
   ]
  },
  {
   "cell_type": "raw",
   "metadata": {},
   "source": [
    "算术平均值"
   ]
  },
  {
   "cell_type": "code",
   "execution_count": 2,
   "metadata": {
    "collapsed": false
   },
   "outputs": [
    {
     "name": "stdout",
     "output_type": "stream",
     "text": [
      "3.625\n",
      "14.3333333333\n"
     ]
    }
   ],
   "source": [
    "x1 = [1, 2, 2, 3, 4, 5, 5, 7]\n",
    "x2 = x1 + [100]\n",
    "\n",
    "print(np.mean(x1))\n",
    "print(np.mean(x2))"
   ]
  },
  {
   "cell_type": "raw",
   "metadata": {},
   "source": [
    "中位数\n",
    "顾名思义，一组数据的中位数是当以递增或递减顺序排列时出现在数据中间位置的数字。 当我们有奇数n个数据点时，中位数就是位置（n + 1）/ 2的值。 当我们有偶数的数据点时，数据分成两半，中间位置没有任何数据点; 所以我们将中位数定义为位置n / 2和（n + 2）/ 2中的两个数值的平均值。\n",
    "数据中位数不容易受极端数值的影响。 它告诉我们处于中间位置的数据。"
   ]
  },
  {
   "cell_type": "code",
   "execution_count": 3,
   "metadata": {
    "collapsed": false
   },
   "outputs": [
    {
     "name": "stdout",
     "output_type": "stream",
     "text": [
      "3.5\n",
      "4.0\n"
     ]
    }
   ],
   "source": [
    "print(np.median(x1))\n",
    "print(np.median(x2))"
   ]
  },
  {
   "cell_type": "raw",
   "metadata": {},
   "source": [
    "众数\n",
    "众数是数据集中出现次数最多的数据点。 它可以应用于非数值数据，与平均值和中位数不同。"
   ]
  },
  {
   "cell_type": "code",
   "execution_count": 4,
   "metadata": {
    "collapsed": false
   },
   "outputs": [
    {
     "name": "stdout",
     "output_type": "stream",
     "text": [
      "2\n"
     ]
    }
   ],
   "source": [
    "print(stats.mode(x1)[0][0])"
   ]
  },
  {
   "cell_type": "code",
   "execution_count": 5,
   "metadata": {
    "collapsed": false
   },
   "outputs": [
    {
     "data": {
      "text/plain": [
       "ModeResult(mode=array([2]), count=array([2]))"
      ]
     },
     "execution_count": 5,
     "metadata": {},
     "output_type": "execute_result"
    }
   ],
   "source": [
    "stats.mode(x1)"
   ]
  },
  {
   "cell_type": "code",
   "execution_count": 6,
   "metadata": {
    "collapsed": false
   },
   "outputs": [
    {
     "data": {
      "text/plain": [
       "[2, 5]"
      ]
     },
     "execution_count": 6,
     "metadata": {},
     "output_type": "execute_result"
    }
   ],
   "source": [
    "# 因此我们自定义一个求众数的函数\n",
    "def mode(l):\n",
    "    # 统计列表中每个元素出现的次数\n",
    "    counts = {}\n",
    "    for e in l:\n",
    "        if e in counts:\n",
    "            counts[e] += 1\n",
    "        else:\n",
    "            counts[e] = 1\n",
    "            \n",
    "    # 返回出现次数最多的元素\n",
    "    maxcount = 0\n",
    "    modes = {}\n",
    "    for (key, value) in counts.items():\n",
    "        if value > maxcount:\n",
    "            maxcount = value\n",
    "            modes = {key}\n",
    "        elif value == maxcount:\n",
    "            modes.add(key)\n",
    "            \n",
    "    if maxcount > 1 or len(l) == 1:\n",
    "        return list(modes)\n",
    "    return 'No mode'\n",
    "\n",
    "mode(x1)"
   ]
  },
  {
   "cell_type": "raw",
   "metadata": {},
   "source": [
    "如果所有的数据都不一样，就把数据进行分组，找出数据点最多的分组来代替众数"
   ]
  },
  {
   "cell_type": "code",
   "execution_count": 7,
   "metadata": {
    "collapsed": false
   },
   "outputs": [
    {
     "data": {
      "image/png": "[encoded data removed]",
      "text/plain": [
       "<matplotlib.figure.Figure at 0x84aea10>"
      ]
     },
     "metadata": {},
     "output_type": "display_data"
    },
    {
     "data": {
      "text/plain": [
       "array([ 1.3315865 ,  0.71527897, -1.54540029, ...,  5.74446677,\n",
       "        6.22449239,  8.42055014])"
      ]
     },
     "execution_count": 7,
     "metadata": {},
     "output_type": "execute_result"
    }
   ],
   "source": [
    "import matplotlib.pyplot as plt\n",
    "rng = np.random.RandomState(10)  # deterministic random data\n",
    "a = np.hstack((rng.normal(size=1000), rng.normal(loc=5, scale=2, size=1000)))\n",
    "plt.hist(a, bins='auto')  # arguments are passed to np.histogram\n",
    "plt.title(\"Histogram with 'auto' bins\")\n",
    "plt.show()\n",
    "a"
   ]
  },
  {
   "cell_type": "code",
   "execution_count": 8,
   "metadata": {
    "collapsed": false
   },
   "outputs": [
    {
     "name": "stdout",
     "output_type": "stream",
     "text": [
      "('Mode of bins:', [(1.0, 2.5), (4.0, 5.5)])\n"
     ]
    },
    {
     "data": {
      "image/png": "[encoded data removed]",
      "text/plain": [
       "<matplotlib.figure.Figure at 0x3f22850>"
      ]
     },
     "metadata": {},
     "output_type": "display_data"
    }
   ],
   "source": [
    "hist, bins = np.histogram(x1, 4) # 将数据分成2个bin\n",
    "maxfreq = max(hist)\n",
    "# 找出哪个bin里面出现的数据点次数最大，这个bin就当做计算出来的mode\n",
    "print('Mode of bins:', [(bins[i], bins[i+1]) for i, j in enumerate(hist) if j == maxfreq])\n",
    "\n",
    "plt.hist(hist, bins='auto')  # arguments are passed to np.histogram\n",
    "plt.title(\"Histogram with 'auto' bins\")\n",
    "plt.show()"
   ]
  },
  {
   "cell_type": "raw",
   "metadata": {},
   "source": [
    "histogram函数官方文档：\n",
    "https://docs.scipy.org/doc/numpy/reference/generated/numpy.histogram.html"
   ]
  },
  {
   "cell_type": "code",
   "execution_count": 9,
   "metadata": {
    "collapsed": false
   },
   "outputs": [
    {
     "name": "stdout",
     "output_type": "stream",
     "text": [
      "3.09410402498\n",
      "4.55253458762\n"
     ]
    }
   ],
   "source": [
    "# 使用Scipy包中的gmean函数来计算几何平均值\n",
    "print(stats.gmean(x1))\n",
    "print(stats.gmean(x2))"
   ]
  },
  {
   "cell_type": "raw",
   "metadata": {},
   "source": [
    "数据的离散程度"
   ]
  },
  {
   "cell_type": "code",
   "execution_count": 11,
   "metadata": {
    "collapsed": false
   },
   "outputs": [],
   "source": [
    "#设置随机数种子\n",
    "np.random.seed(121)"
   ]
  },
  {
   "cell_type": "code",
   "execution_count": 12,
   "metadata": {
    "collapsed": false
   },
   "outputs": [
    {
     "name": "stdout",
     "output_type": "stream",
     "text": [
      "[ 3  8 34 39 46 52 52 52 54 57 60 65 66 75 83 85 88 94 95 96]\n",
      "60.2\n"
     ]
    }
   ],
   "source": [
    "#生成20个小于100的随机整数\n",
    "X = np.random.randint(100, size=20)\n",
    "\n",
    "X = np.sort(X)\n",
    "\n",
    "print (X)\n",
    "\n",
    "mu = np.mean(X)\n",
    "\n",
    "print(mu)"
   ]
  },
  {
   "cell_type": "raw",
   "metadata": {},
   "source": [
    "Range(范围)\n",
    "Range（范围）是数据集中最大值和最小值之间的差异。 毫不奇怪，它对异常值非常敏感。 我们使用numpy的ptp的函数来计算Range。"
   ]
  },
  {
   "cell_type": "code",
   "execution_count": 14,
   "metadata": {
    "collapsed": false
   },
   "outputs": [
    {
     "name": "stdout",
     "output_type": "stream",
     "text": [
      "93\n"
     ]
    }
   ],
   "source": [
    "#最大值减去最小值\n",
    "print(np.ptp(X))"
   ]
  },
  {
   "cell_type": "raw",
   "metadata": {},
   "source": [
    "MAD(平均绝对偏差)\n",
    "平均绝对偏差是数据点距离算术平均值的偏差。 我们使用偏差的绝对值，这使得比平均值大5的数据点和比平均值小5的数据点对MAD均贡献5，否则偏差总和为0。"
   ]
  },
  {
   "cell_type": "code",
   "execution_count": 19,
   "metadata": {
    "collapsed": false
   },
   "outputs": [
    {
     "data": {
      "text/plain": [
       "20.520000000000003"
      ]
     },
     "execution_count": 19,
     "metadata": {},
     "output_type": "execute_result"
    }
   ],
   "source": [
    "abs_dispersion = [np.abs(mu - x) for x in X]\n",
    "MAD = np.sum(abs_dispersion) / len(abs_dispersion)\n",
    "MAD"
   ]
  },
  {
   "cell_type": "raw",
   "metadata": {},
   "source": [
    "方差和标准差\n",
    "关于数据离散程度的度量最常用的指标就是方差和标准差.\n",
    "sharp比率的分母是标准差，如果收益率回撤比较小，则标准差会比较小，sharp比率会明显提高。\n",
    "标准差的定义为方差的平方根：σ。 标准差的运用更为广泛，因为它和观测值在同一个数据维度，可以进行加减运算。"
   ]
  },
  {
   "cell_type": "code",
   "execution_count": 22,
   "metadata": {
    "collapsed": false
   },
   "outputs": [
    {
     "name": "stdout",
     "output_type": "stream",
     "text": [
      "670.16\n",
      "25.8874486962\n"
     ]
    }
   ],
   "source": [
    "print(np.var(X)) # 方差\n",
    "print(np.std(X)) # 标准差"
   ]
  },
  {
   "cell_type": "raw",
   "metadata": {},
   "source": [
    "解释标准差的一种方式是切比雪夫不等式。 它告诉我们，对于任意的值k(k>1)，平均值的k个标准差（即，在k倍标准偏差的距离内）的样本比例至少为1−1/k2。我们来检查一下这个定理是否正确。"
   ]
  },
  {
   "cell_type": "code",
   "execution_count": 34,
   "metadata": {
    "collapsed": false
   },
   "outputs": [
    {
     "name": "stdout",
     "output_type": "stream",
     "text": [
      "0.75\n",
      "0.36\n"
     ]
    }
   ],
   "source": [
    "k = 1.25\n",
    "dist = k * np.std(X)\n",
    "\n",
    "l = [x for x in X if abs(x - mu) <= dist]\n",
    "\n",
    "print(float(len(l)) / len(X))\n",
    "temp = 1- 1 / k ** 2\n",
    "\n",
    "print (temp)"
   ]
  },
  {
   "cell_type": "raw",
   "metadata": {},
   "source": [
    "半方差和半标准差\n",
    "虽然方差和标准差告诉我们收益率是如何波动，但它们并不区分向上的偏差和向下的偏差。 通常情况下，在金融市场投资中，我们更加担心向下的偏差。 因此半方差更多是在金融市场上的应用。\n",
    "半方差是目标导向，认为只有负的收益才是投资真正的风险。半方差的定义与方差类似，唯一的区别在于半方差仅试用低于均值的收益率样本。"
   ]
  },
  {
   "cell_type": "code",
   "execution_count": 33,
   "metadata": {
    "collapsed": false
   },
   "outputs": [
    {
     "name": "stdout",
     "output_type": "stream",
     "text": [
      "689.512727273\n",
      "26.2585743572\n"
     ]
    }
   ],
   "source": [
    "# 半方差与半标准差都需要手动计算\n",
    "\n",
    "lows = [ e for e in X if e <= mu]\n",
    "\n",
    "semivar = np.sum( (lows - mu) ** 2) / len(lows)\n",
    "\n",
    "print(semivar)\n",
    "print (np.sqrt(semivar))"
   ]
  },
  {
   "cell_type": "code",
   "execution_count": 38,
   "metadata": {
    "collapsed": false
   },
   "outputs": [
    {
     "name": "stdout",
     "output_type": "stream",
     "text": [
      "9\n",
      "27\n"
     ]
    }
   ],
   "source": [
    "# **2为平方\n",
    "a = 3 ** 2\n",
    "print(a)\n",
    "b = 3 ** 3\n",
    "print(b)"
   ]
  },
  {
   "cell_type": "code",
   "execution_count": 41,
   "metadata": {
    "collapsed": false
   },
   "outputs": [
    {
     "name": "stdout",
     "output_type": "stream",
     "text": [
      "188\n",
      "13.7113092008\n"
     ]
    }
   ],
   "source": [
    "# 另外一个相关的是目标半方差，是仅关注低于某一目标的样本\n",
    "\n",
    "B = 19\n",
    "\n",
    "lows_B = [e for e in X if e <= B]\n",
    "semivar_B = sum(map(lambda x : ( x - B) ** 2, lows_B)) / len(lows_B)\n",
    "\n",
    "print (semivar_B)\n",
    "print (np.sqrt(semivar_B))"
   ]
  }
 ],
 "metadata": {
  "anaconda-cloud": {},
  "kernelspec": {
   "display_name": "Python [conda root]",
   "language": "python",
   "name": "conda-root-py"
  },
  "language_info": {
   "codemirror_mode": {
    "name": "ipython",
    "version": 2.0
   },
   "file_extension": ".py",
   "mimetype": "text/x-python",
   "name": "python",
   "nbconvert_exporter": "python",
   "pygments_lexer": "ipython2",
   "version": "2.7.12"
  }
 },
 "nbformat": 4,
 "nbformat_minor": 0
}