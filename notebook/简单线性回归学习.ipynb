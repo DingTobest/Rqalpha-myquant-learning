{
 "cells": [
  {
   "cell_type": "code",
   "execution_count": 2,
   "metadata": {
    "collapsed": true
   },
   "outputs": [],
   "source": [
    "import numpy as np\n",
    "from statsmodels import regression\n",
    "import statsmodels.api as sm\n",
    "import matplotlib.pyplot as plt\n",
    "import math"
   ]
  },
  {
   "cell_type": "code",
   "execution_count": 3,
   "metadata": {
    "collapsed": true
   },
   "outputs": [],
   "source": [
    "def linreg(X,Y):\n",
    "    # 跑线性回归\n",
    "    X = sm.add_constant(X)\n",
    "    model = regression.linear_model.OLS(Y, X).fit()\n",
    "    a = model.params[0]\n",
    "    b = model.params[1]\n",
    "    X = X[:, 1]\n",
    "\n",
    "    # 返回回归结果和图\n",
    "    X2 = np.linspace(X.min(), X.max(), 100)\n",
    "    Y_hat = X2 * b + a\n",
    "    plt.scatter(X, Y, alpha=0.3) # 画原始数据\n",
    "    plt.plot(X2, Y_hat, 'r', alpha=0.9);  # 添加回归线，颜色设置为红色\n",
    "    plt.xlabel('X Value')\n",
    "    plt.ylabel('Y Value')\n",
    "    return model.summary()"
   ]
  },
  {
   "cell_type": "code",
   "execution_count": 4,
   "metadata": {
    "collapsed": false
   },
   "outputs": [
    {
     "data": {
      "text/html": [
       "<table class=\"simpletable\">\n",
       "<caption>OLS Regression Results</caption>\n",
       "<tr>\n",
       "  <th>Dep. Variable:</th>            <td>y</td>        <th>  R-squared:         </th> <td>   0.519</td>\n",
       "</tr>\n",
       "<tr>\n",
       "  <th>Model:</th>                   <td>OLS</td>       <th>  Adj. R-squared:    </th> <td>   0.511</td>\n",
       "</tr>\n",
       "<tr>\n",
       "  <th>Method:</th>             <td>Least Squares</td>  <th>  F-statistic:       </th> <td>   65.71</td>\n",
       "</tr>\n",
       "<tr>\n",
       "  <th>Date:</th>             <td>Tue, 22 Aug 2017</td> <th>  Prob (F-statistic):</th> <td>2.89e-11</td>\n",
       "</tr>\n",
       "<tr>\n",
       "  <th>Time:</th>                 <td>15:11:10</td>     <th>  Log-Likelihood:    </th> <td>  148.38</td>\n",
       "</tr>\n",
       "<tr>\n",
       "  <th>No. Observations:</th>      <td>    63</td>      <th>  AIC:               </th> <td>  -292.8</td>\n",
       "</tr>\n",
       "<tr>\n",
       "  <th>Df Residuals:</th>          <td>    61</td>      <th>  BIC:               </th> <td>  -288.5</td>\n",
       "</tr>\n",
       "<tr>\n",
       "  <th>Df Model:</th>              <td>     1</td>      <th>                     </th>     <td> </td>   \n",
       "</tr>\n",
       "<tr>\n",
       "  <th>Covariance Type:</th>      <td>nonrobust</td>    <th>                     </th>     <td> </td>   \n",
       "</tr>\n",
       "</table>\n",
       "<table class=\"simpletable\">\n",
       "<tr>\n",
       "    <td></td>       <th>coef</th>     <th>std err</th>      <th>t</th>      <th>P>|t|</th> <th>[95.0% Conf. Int.]</th> \n",
       "</tr>\n",
       "<tr>\n",
       "  <th>const</th> <td>   -0.0024</td> <td>    0.003</td> <td>   -0.820</td> <td> 0.416</td> <td>   -0.008     0.003</td>\n",
       "</tr>\n",
       "<tr>\n",
       "  <th>x1</th>    <td>    0.6096</td> <td>    0.075</td> <td>    8.106</td> <td> 0.000</td> <td>    0.459     0.760</td>\n",
       "</tr>\n",
       "</table>\n",
       "<table class=\"simpletable\">\n",
       "<tr>\n",
       "  <th>Omnibus:</th>       <td> 1.929</td> <th>  Durbin-Watson:     </th> <td>   2.151</td>\n",
       "</tr>\n",
       "<tr>\n",
       "  <th>Prob(Omnibus):</th> <td> 0.381</td> <th>  Jarque-Bera (JB):  </th> <td>   1.235</td>\n",
       "</tr>\n",
       "<tr>\n",
       "  <th>Skew:</th>          <td> 0.096</td> <th>  Prob(JB):          </th> <td>   0.539</td>\n",
       "</tr>\n",
       "<tr>\n",
       "  <th>Kurtosis:</th>      <td> 3.659</td> <th>  Cond. No.          </th> <td>    25.6</td>\n",
       "</tr>\n",
       "</table>"
      ],
      "text/plain": [
       "<class 'statsmodels.iolib.summary.Summary'>\n",
       "\"\"\"\n",
       "                            OLS Regression Results                            \n",
       "==============================================================================\n",
       "Dep. Variable:                      y   R-squared:                       0.519\n",
       "Model:                            OLS   Adj. R-squared:                  0.511\n",
       "Method:                 Least Squares   F-statistic:                     65.71\n",
       "Date:                Tue, 22 Aug 2017   Prob (F-statistic):           2.89e-11\n",
       "Time:                        15:11:10   Log-Likelihood:                 148.38\n",
       "No. Observations:                  63   AIC:                            -292.8\n",
       "Df Residuals:                      61   BIC:                            -288.5\n",
       "Df Model:                           1                                         \n",
       "Covariance Type:            nonrobust                                         \n",
       "==============================================================================\n",
       "                 coef    std err          t      P>|t|      [95.0% Conf. Int.]\n",
       "------------------------------------------------------------------------------\n",
       "const         -0.0024      0.003     -0.820      0.416        -0.008     0.003\n",
       "x1             0.6096      0.075      8.106      0.000         0.459     0.760\n",
       "==============================================================================\n",
       "Omnibus:                        1.929   Durbin-Watson:                   2.151\n",
       "Prob(Omnibus):                  0.381   Jarque-Bera (JB):                1.235\n",
       "Skew:                           0.096   Prob(JB):                        0.539\n",
       "Kurtosis:                       3.659   Cond. No.                         25.6\n",
       "==============================================================================\n",
       "\n",
       "Warnings:\n",
       "[1] Standard Errors assume that the covariance matrix of the errors is correctly specified.\n",
       "\"\"\""
      ]
     },
     "execution_count": 4,
     "metadata": {},
     "output_type": "execute_result"
    },
    {
     "data": {
      "image/png": "[encoded data removed]",
      "text/plain": [
       "<matplotlib.figure.Figure at 0x7fe6c61e8320>"
      ]
     },
     "metadata": {},
     "output_type": "display_data"
    }
   ],
   "source": [
    "Stock1 = get_price(\"000300.XSHG\",start_date='2015-05-01',end_date='2015-08-01',fields = 'ClosingPx')\n",
    "Stock2 = get_price(\"399006.XSHE\",start_date='2015-05-01',end_date='2015-08-01',fields = 'ClosingPx')\n",
    "\n",
    "r_a = Stock1.pct_change()[1:]\n",
    "r_b = Stock2.pct_change()[1:]\n",
    "\n",
    "linreg(r_b.values, r_a.values)"
   ]
  },
  {
   "cell_type": "code",
   "execution_count": 80,
   "metadata": {
    "collapsed": false
   },
   "outputs": [
    {
     "name": "stderr",
     "output_type": "stream",
     "text": [
      "/srv/env/lib64/python3.4/site-packages/scipy/stats/stats.py:1327: UserWarning: kurtosistest only valid for n>=20 ... continuing anyway, n=14\n",
      "  \"anyway, n=%i\" % int(n))\n"
     ]
    },
    {
     "data": {
      "text/html": [
       "<table class=\"simpletable\">\n",
       "<caption>OLS Regression Results</caption>\n",
       "<tr>\n",
       "  <th>Dep. Variable:</th>          <td>high</td>       <th>  R-squared:         </th> <td>   0.800</td>\n",
       "</tr>\n",
       "<tr>\n",
       "  <th>Model:</th>                   <td>OLS</td>       <th>  Adj. R-squared:    </th> <td>   0.783</td>\n",
       "</tr>\n",
       "<tr>\n",
       "  <th>Method:</th>             <td>Least Squares</td>  <th>  F-statistic:       </th> <td>   48.00</td>\n",
       "</tr>\n",
       "<tr>\n",
       "  <th>Date:</th>             <td>Tue, 22 Aug 2017</td> <th>  Prob (F-statistic):</th> <td>1.59e-05</td>\n",
       "</tr>\n",
       "<tr>\n",
       "  <th>Time:</th>                 <td>16:37:47</td>     <th>  Log-Likelihood:    </th> <td> -58.128</td>\n",
       "</tr>\n",
       "<tr>\n",
       "  <th>No. Observations:</th>      <td>    14</td>      <th>  AIC:               </th> <td>   120.3</td>\n",
       "</tr>\n",
       "<tr>\n",
       "  <th>Df Residuals:</th>          <td>    12</td>      <th>  BIC:               </th> <td>   121.5</td>\n",
       "</tr>\n",
       "<tr>\n",
       "  <th>Df Model:</th>              <td>     1</td>      <th>                     </th>     <td> </td>   \n",
       "</tr>\n",
       "<tr>\n",
       "  <th>Covariance Type:</th>      <td>nonrobust</td>    <th>                     </th>     <td> </td>   \n",
       "</tr>\n",
       "</table>\n",
       "<table class=\"simpletable\">\n",
       "<tr>\n",
       "    <td></td>       <th>coef</th>     <th>std err</th>      <th>t</th>      <th>P>|t|</th> <th>[95.0% Conf. Int.]</th> \n",
       "</tr>\n",
       "<tr>\n",
       "  <th>const</th> <td> -348.2521</td> <td>  419.856</td> <td>   -0.829</td> <td> 0.423</td> <td>-1263.039   566.535</td>\n",
       "</tr>\n",
       "<tr>\n",
       "  <th>low</th>   <td>    1.1523</td> <td>    0.166</td> <td>    6.928</td> <td> 0.000</td> <td>    0.790     1.515</td>\n",
       "</tr>\n",
       "</table>\n",
       "<table class=\"simpletable\">\n",
       "<tr>\n",
       "  <th>Omnibus:</th>       <td> 1.777</td> <th>  Durbin-Watson:     </th> <td>   0.785</td>\n",
       "</tr>\n",
       "<tr>\n",
       "  <th>Prob(Omnibus):</th> <td> 0.411</td> <th>  Jarque-Bera (JB):  </th> <td>   1.381</td>\n",
       "</tr>\n",
       "<tr>\n",
       "  <th>Skew:</th>          <td> 0.660</td> <th>  Prob(JB):          </th> <td>   0.501</td>\n",
       "</tr>\n",
       "<tr>\n",
       "  <th>Kurtosis:</th>      <td> 2.209</td> <th>  Cond. No.          </th> <td>2.39e+05</td>\n",
       "</tr>\n",
       "</table>"
      ],
      "text/plain": [
       "<class 'statsmodels.iolib.summary.Summary'>\n",
       "\"\"\"\n",
       "                            OLS Regression Results                            \n",
       "==============================================================================\n",
       "Dep. Variable:                   high   R-squared:                       0.800\n",
       "Model:                            OLS   Adj. R-squared:                  0.783\n",
       "Method:                 Least Squares   F-statistic:                     48.00\n",
       "Date:                Tue, 22 Aug 2017   Prob (F-statistic):           1.59e-05\n",
       "Time:                        16:37:47   Log-Likelihood:                -58.128\n",
       "No. Observations:                  14   AIC:                             120.3\n",
       "Df Residuals:                      12   BIC:                             121.5\n",
       "Df Model:                           1                                         \n",
       "Covariance Type:            nonrobust                                         \n",
       "==============================================================================\n",
       "                 coef    std err          t      P>|t|      [95.0% Conf. Int.]\n",
       "------------------------------------------------------------------------------\n",
       "const       -348.2521    419.856     -0.829      0.423     -1263.039   566.535\n",
       "low            1.1523      0.166      6.928      0.000         0.790     1.515\n",
       "==============================================================================\n",
       "Omnibus:                        1.777   Durbin-Watson:                   0.785\n",
       "Prob(Omnibus):                  0.411   Jarque-Bera (JB):                1.381\n",
       "Skew:                           0.660   Prob(JB):                        0.501\n",
       "Kurtosis:                       2.209   Cond. No.                     2.39e+05\n",
       "==============================================================================\n",
       "\n",
       "Warnings:\n",
       "[1] Standard Errors assume that the covariance matrix of the errors is correctly specified.\n",
       "[2] The condition number is large, 2.39e+05. This might indicate that there are\n",
       "strong multicollinearity or other numerical problems.\n",
       "\"\"\""
      ]
     },
     "execution_count": 80,
     "metadata": {},
     "output_type": "execute_result"
    },
    {
     "data": {
      "image/png": "[encoded data removed]",
      "text/plain": [
       "<matplotlib.figure.Figure at 0x7fe690873198>"
      ]
     },
     "metadata": {},
     "output_type": "display_data"
    }
   ],
   "source": [
    "# 上升趋势情况下\n",
    "high = get_price(\"000300.XSHG\",start_date='2014-11-01',end_date='2014-11-20',fields = 'high')\n",
    "low = get_price(\"000300.XSHG\",start_date='2014-11-01',end_date='2014-11-20',fields = 'low')\n",
    "\n",
    "low, high\n",
    "\n",
    "lowList = sm.add_constant(low)\n",
    "model = regression.linear_model.OLS(high, lowList).fit()\n",
    "a = model.params[0]\n",
    "b = model.params[1]\n",
    "\n",
    "# 返回回归结果和图\n",
    "X2 = np.linspace(low.min(), low.max(), 100)\n",
    "Y_hat = X2 * b + a\n",
    "Y_hat\n",
    "plt.scatter(low, high, alpha=0.3) # 画原始数据\n",
    "plt.plot(X2, Y_hat, 'r', alpha=0.9);  # 添加回归线，颜色设置为红色\n",
    "plt.xlabel('X Value')\n",
    "plt.ylabel('Y Value')\n",
    "model.summary()"
   ]
  },
  {
   "cell_type": "code",
   "execution_count": 79,
   "metadata": {
    "collapsed": false
   },
   "outputs": [
    {
     "name": "stderr",
     "output_type": "stream",
     "text": [
      "/srv/env/lib64/python3.4/site-packages/scipy/stats/stats.py:1327: UserWarning: kurtosistest only valid for n>=20 ... continuing anyway, n=14\n",
      "  \"anyway, n=%i\" % int(n))\n"
     ]
    },
    {
     "data": {
      "text/html": [
       "<table class=\"simpletable\">\n",
       "<caption>OLS Regression Results</caption>\n",
       "<tr>\n",
       "  <th>Dep. Variable:</th>          <td>high</td>       <th>  R-squared:         </th> <td>   0.452</td>\n",
       "</tr>\n",
       "<tr>\n",
       "  <th>Model:</th>                   <td>OLS</td>       <th>  Adj. R-squared:    </th> <td>   0.406</td>\n",
       "</tr>\n",
       "<tr>\n",
       "  <th>Method:</th>             <td>Least Squares</td>  <th>  F-statistic:       </th> <td>   9.894</td>\n",
       "</tr>\n",
       "<tr>\n",
       "  <th>Date:</th>             <td>Tue, 22 Aug 2017</td> <th>  Prob (F-statistic):</th>  <td>0.00845</td>\n",
       "</tr>\n",
       "<tr>\n",
       "  <th>Time:</th>                 <td>16:37:36</td>     <th>  Log-Likelihood:    </th> <td> -48.146</td>\n",
       "</tr>\n",
       "<tr>\n",
       "  <th>No. Observations:</th>      <td>    14</td>      <th>  AIC:               </th> <td>   100.3</td>\n",
       "</tr>\n",
       "<tr>\n",
       "  <th>Df Residuals:</th>          <td>    12</td>      <th>  BIC:               </th> <td>   101.6</td>\n",
       "</tr>\n",
       "<tr>\n",
       "  <th>Df Model:</th>              <td>     1</td>      <th>                     </th>     <td> </td>   \n",
       "</tr>\n",
       "<tr>\n",
       "  <th>Covariance Type:</th>      <td>nonrobust</td>    <th>                     </th>     <td> </td>   \n",
       "</tr>\n",
       "</table>\n",
       "<table class=\"simpletable\">\n",
       "<tr>\n",
       "    <td></td>       <th>coef</th>     <th>std err</th>      <th>t</th>      <th>P>|t|</th> <th>[95.0% Conf. Int.]</th> \n",
       "</tr>\n",
       "<tr>\n",
       "  <th>const</th> <td> 1145.6316</td> <td>  389.065</td> <td>    2.945</td> <td> 0.012</td> <td>  297.933  1993.330</td>\n",
       "</tr>\n",
       "<tr>\n",
       "  <th>low</th>   <td>    0.5230</td> <td>    0.166</td> <td>    3.145</td> <td> 0.008</td> <td>    0.161     0.885</td>\n",
       "</tr>\n",
       "</table>\n",
       "<table class=\"simpletable\">\n",
       "<tr>\n",
       "  <th>Omnibus:</th>       <td> 5.899</td> <th>  Durbin-Watson:     </th> <td>   1.840</td>\n",
       "</tr>\n",
       "<tr>\n",
       "  <th>Prob(Omnibus):</th> <td> 0.052</td> <th>  Jarque-Bera (JB):  </th> <td>   2.944</td>\n",
       "</tr>\n",
       "<tr>\n",
       "  <th>Skew:</th>          <td>-1.054</td> <th>  Prob(JB):          </th> <td>   0.229</td>\n",
       "</tr>\n",
       "<tr>\n",
       "  <th>Kurtosis:</th>      <td> 3.776</td> <th>  Cond. No.          </th> <td>4.18e+05</td>\n",
       "</tr>\n",
       "</table>"
      ],
      "text/plain": [
       "<class 'statsmodels.iolib.summary.Summary'>\n",
       "\"\"\"\n",
       "                            OLS Regression Results                            \n",
       "==============================================================================\n",
       "Dep. Variable:                   high   R-squared:                       0.452\n",
       "Model:                            OLS   Adj. R-squared:                  0.406\n",
       "Method:                 Least Squares   F-statistic:                     9.894\n",
       "Date:                Tue, 22 Aug 2017   Prob (F-statistic):            0.00845\n",
       "Time:                        16:37:36   Log-Likelihood:                -48.146\n",
       "No. Observations:                  14   AIC:                             100.3\n",
       "Df Residuals:                      12   BIC:                             101.6\n",
       "Df Model:                           1                                         \n",
       "Covariance Type:            nonrobust                                         \n",
       "==============================================================================\n",
       "                 coef    std err          t      P>|t|      [95.0% Conf. Int.]\n",
       "------------------------------------------------------------------------------\n",
       "const       1145.6316    389.065      2.945      0.012       297.933  1993.330\n",
       "low            0.5230      0.166      3.145      0.008         0.161     0.885\n",
       "==============================================================================\n",
       "Omnibus:                        5.899   Durbin-Watson:                   1.840\n",
       "Prob(Omnibus):                  0.052   Jarque-Bera (JB):                2.944\n",
       "Skew:                          -1.054   Prob(JB):                        0.229\n",
       "Kurtosis:                       3.776   Cond. No.                     4.18e+05\n",
       "==============================================================================\n",
       "\n",
       "Warnings:\n",
       "[1] Standard Errors assume that the covariance matrix of the errors is correctly specified.\n",
       "[2] The condition number is large, 4.18e+05. This might indicate that there are\n",
       "strong multicollinearity or other numerical problems.\n",
       "\"\"\""
      ]
     },
     "execution_count": 79,
     "metadata": {},
     "output_type": "execute_result"
    },
    {
     "data": {
      "image/png": "[encoded data removed]",
      "text/plain": [
       "<matplotlib.figure.Figure at 0x7fe690bc3630>"
      ]
     },
     "metadata": {},
     "output_type": "display_data"
    }
   ],
   "source": [
    "# 震荡情况下\n",
    "high = get_price(\"000300.XSHG\",start_date='2014-08-01',end_date='2014-08-20',fields = 'high')\n",
    "low = get_price(\"000300.XSHG\",start_date='2014-08-01',end_date='2014-08-20',fields = 'low')\n",
    "\n",
    "low, high\n",
    "\n",
    "lowList = sm.add_constant(low)\n",
    "model = regression.linear_model.OLS(high, lowList).fit()\n",
    "a = model.params[0]\n",
    "b = model.params[1]\n",
    "\n",
    "# 返回回归结果和图\n",
    "X2 = np.linspace(low.min(), low.max(), 100)\n",
    "Y_hat = X2 * b + a\n",
    "Y_hat\n",
    "plt.scatter(low, high, alpha=0.3) # 画原始数据\n",
    "plt.plot(X2, Y_hat, 'r', alpha=0.9);  # 添加回归线，颜色设置为红色\n",
    "plt.xlabel('X Value')\n",
    "plt.ylabel('Y Value')\n",
    "model.summary()"
   ]
  }
 ],
 "metadata": {
  "kernelspec": {
   "display_name": "Python 3",
   "language": "python",
   "name": "python3"
  },
  "language_info": {
   "codemirror_mode": {
    "name": "ipython",
    "version": 3
   },
   "file_extension": ".py",
   "mimetype": "text/x-python",
   "name": "python",
   "nbconvert_exporter": "python",
   "pygments_lexer": "ipython3",
   "version": "3.4.5"
  }
 },
 "nbformat": 4,
 "nbformat_minor": 2
}
