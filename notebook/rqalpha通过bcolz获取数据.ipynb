{
 "cells": [
  {
   "cell_type": "code",
   "execution_count": 2,
   "metadata": {
    "collapsed": true
   },
   "outputs": [],
   "source": [
    "import bcolz\n",
    "import numpy as np\n",
    "\n",
    "table = bcolz.open(\"D:\\\\OpenSourceTradePlatform\\\\atspy\\\\rqalpha\\\\bundle\\\\indexes.bcolz\", 'r')"
   ]
  },
  {
   "cell_type": "code",
   "execution_count": 4,
   "metadata": {
    "collapsed": false
   },
   "outputs": [
    {
     "data": {
      "text/plain": [
       "ctable((1132884,), [('date', '<u4'), ('open', '<u4'), ('close', '<u4'), ('high', '<u4'), ('low', '<u4'), ('volume', '<u8'), ('total_turnover', '<u8')])\n",
       "  nbytes: 38.89 MB; cbytes: 57.42 MB; ratio: 0.68\n",
       "  cparams := cparams(clevel=5, shuffle=1, cname='lz4', quantize=0)\n",
       "  rootdir := 'D:\\OpenSourceTradePlatform\\atspy\\rqalpha\\bundle\\indexes.bcolz'\n",
       "[ (20130702, 49364843, 49214200, 49373610, 48512568, 17517169500, 1209203143)\n",
       " (20130703, 49076836, 49167840, 49265439, 48533415, 21554442300, 1426791526)\n",
       " (20130704, 48812128, 49877200, 50341233, 48248504, 21968230700, 1768369520)\n",
       " ...,\n",
       " (20170602, 39748920, 39686090, 39893720, 39566340, 1554278150, 21267079199)\n",
       " (20170605, 39595350, 39320840, 39636810, 39191070, 1843604557, 22096096415)\n",
       " (20170606, 39258800, 39686600, 39692010, 39209150, 1178144750, 17749909925)]"
      ]
     },
     "execution_count": 4,
     "metadata": {},
     "output_type": "execute_result"
    }
   ],
   "source": [
    "table"
   ]
  },
  {
   "cell_type": "code",
   "execution_count": 10,
   "metadata": {
    "collapsed": false
   },
   "outputs": [
    {
     "data": {
      "text/plain": [
       "['date', 'open', 'close', 'high', 'low', 'volume', 'total_turnover']"
      ]
     },
     "execution_count": 10,
     "metadata": {},
     "output_type": "execute_result"
    }
   ],
   "source": [
    "table.names"
   ]
  },
  {
   "cell_type": "code",
   "execution_count": 12,
   "metadata": {
    "collapsed": false
   },
   "outputs": [
    {
     "data": {
      "text/plain": [
       "(20130702, 49364843, 49214200, 49373610, 48512568, 17517169500, 1209203143)"
      ]
     },
     "execution_count": 12,
     "metadata": {},
     "output_type": "execute_result"
    }
   ],
   "source": [
    "table[0]"
   ]
  },
  {
   "cell_type": "code",
   "execution_count": 20,
   "metadata": {
    "collapsed": false
   },
   "outputs": [
    {
     "data": {
      "text/plain": [
       "(1023086, 1026102)"
      ]
     },
     "execution_count": 20,
     "metadata": {},
     "output_type": "execute_result"
    }
   ],
   "source": [
    "s, e = linemap[\"000001.XSHG\"]\n",
    "s,e"
   ]
  },
  {
   "cell_type": "code",
   "execution_count": 25,
   "metadata": {
    "collapsed": false
   },
   "outputs": [
    {
     "data": {
      "text/plain": [
       "['open', 'close', 'high', 'low', 'volume', 'total_turnover']"
      ]
     },
     "execution_count": 25,
     "metadata": {},
     "output_type": "execute_result"
    }
   ],
   "source": [
    "fields = table.names[1:]\n",
    "fields"
   ]
  },
  {
   "cell_type": "code",
   "execution_count": 32,
   "metadata": {
    "collapsed": false
   },
   "outputs": [
    {
     "data": {
      "text/plain": [
       "'close'"
      ]
     },
     "execution_count": 32,
     "metadata": {},
     "output_type": "execute_result"
    }
   ],
   "source": [
    "fields[1]"
   ]
  },
  {
   "cell_type": "code",
   "execution_count": 34,
   "metadata": {
    "collapsed": false
   },
   "outputs": [
    {
     "data": {
      "text/plain": [
       "array([12607820, 12416820, 12524930, ..., 30942253, 31021095, 30845401], dtype=uint32)"
      ]
     },
     "execution_count": 34,
     "metadata": {},
     "output_type": "execute_result"
    }
   ],
   "source": [
    "table.cols[fields[0]][s:e]"
   ]
  },
  {
   "cell_type": "code",
   "execution_count": 37,
   "metadata": {
    "collapsed": false
   },
   "outputs": [],
   "source": [
    "from collections import namedtuple\n",
    "Rule = namedtuple('Rule', ['dtype', 'multiplier', 'round'])\n",
    "\n",
    "\n",
    "class Converter(object):\n",
    "    def __init__(self, rules):\n",
    "        self._rules = rules\n",
    "\n",
    "    def convert(self, name, data):\n",
    "        try:\n",
    "            r = self._rules[name]\n",
    "        except KeyError:\n",
    "            return data\n",
    "\n",
    "        result = data * r.multiplier\n",
    "        if r.round:\n",
    "            result = np.round(result, r.round)\n",
    "\n",
    "        return result\n",
    "\n",
    "    def field_type(self, name, dt):\n",
    "        try:\n",
    "            return self._rules[name].dtype\n",
    "        except KeyError:\n",
    "            return dt\n",
    "\n",
    "float64 = np.dtype('float64')\n",
    "\n",
    "StockBarConverter = Converter({\n",
    "    'open': Rule(float64, 1 / 10000.0, 2),\n",
    "    'close': Rule(float64, 1 / 10000.0, 2),\n",
    "    'high': Rule(float64, 1 / 10000.0, 2),\n",
    "    'low': Rule(float64, 1 / 10000.0, 2),\n",
    "    'limit_up': Rule(float64, 1/10000.0, 2),\n",
    "    'limit_down': Rule(float64, 1/10000.0, 2),\n",
    "    'volume': Rule(float64, 1, 0),\n",
    "})"
   ]
  },
  {
   "cell_type": "code",
   "execution_count": 40,
   "metadata": {
    "collapsed": false
   },
   "outputs": [
    {
     "data": {
      "text/plain": [
       "dtype([('datetime', '<u8'), ('open', '<f8'), ('close', '<f8'), ('high', '<f8'), ('low', '<f8'), ('volume', '<f8'), ('total_turnover', '<u8')])"
      ]
     },
     "execution_count": 40,
     "metadata": {},
     "output_type": "execute_result"
    }
   ],
   "source": [
    "dtype = np.dtype([('datetime', np.uint64)] +\n",
    "                         [(f, StockBarConverter.field_type(f, table.cols[f].dtype))\n",
    "                          for f in fields])\n",
    "dtype"
   ]
  },
  {
   "cell_type": "code",
   "execution_count": 44,
   "metadata": {
    "collapsed": false
   },
   "outputs": [
    {
     "data": {
      "text/plain": [
       "array([ (541215563516936384,  -5.10992911e+068,  -1.56207398e+091,   1.46594191e-190,   6.65072288e-145,   1.94620692e+169, 12436776856727494248),\n",
       "       (3620989459858373760,   1.28866198e+193,  -2.44064717e+039,  -1.06509380e-290,  -5.93943461e+129,  -6.73119532e-170, 18199209151941243912),\n",
       "       (3771253374147797122,  -2.18333928e+203,  -1.81022519e+212,   1.34277494e-144,  -3.55000709e+089,  -1.68440879e-096, 14738450706767044847),\n",
       "       ...,\n",
       "       (          128442568,   1.48539716e-313,   8.82780667e-272,   6.34590722e-316,   1.48539716e-313,   8.82794206e-272,            128442616),\n",
       "       (30064773253,   8.82807745e-272,   6.34590959e-316,   1.48539716e-313,   8.82821284e-272,   7.52847305e-272, 30064773253),\n",
       "       (                  0,   6.34591315e-316,   1.69759674e-313,   8.87577971e-272,   6.34598548e-316,   8.48798424e-314, 551696039594164226)], \n",
       "      dtype=[('datetime', '<u8'), ('open', '<f8'), ('close', '<f8'), ('high', '<f8'), ('low', '<f8'), ('volume', '<f8'), ('total_turnover', '<u8')])"
      ]
     },
     "execution_count": 44,
     "metadata": {},
     "output_type": "execute_result"
    }
   ],
   "source": [
    "result = np.empty(shape=(e - s, ), dtype=dtype)\n",
    "result"
   ]
  },
  {
   "cell_type": "code",
   "execution_count": 55,
   "metadata": {
    "collapsed": false
   },
   "outputs": [
    {
     "data": {
      "text/plain": [
       "array([ (541215563516936384,  1260.78,  1242.77,  1260.78,  1238.18,   8.16177000e+08, 4418452047),\n",
       "       (3620989459858373760,  1241.68,  1251.94,  1258.58,  1235.75,   8.67865100e+08, 4916589314),\n",
       "       (3771253374147797122,  1252.49,  1239.43,  1252.73,  1234.24,   7.92225400e+08, 4381370333),\n",
       "       ...,\n",
       "       (          128442568,  3094.23,  3105.54,  3110.39,  3081.85,   1.42504925e+10, 154454347995),\n",
       "       (30064773253,  3102.11,  3091.66,  3105.51,  3084.83,   1.32570300e+10, 143429802002),\n",
       "       (                  0,  3084.54,  3102.13,  3102.86,  3078.79,   1.13439963e+10, 127804624245)], \n",
       "      dtype=[('datetime', '<u8'), ('open', '<f8'), ('close', '<f8'), ('high', '<f8'), ('low', '<f8'), ('volume', '<f8'), ('total_turnover', '<u8')])"
      ]
     },
     "execution_count": 55,
     "metadata": {},
     "output_type": "execute_result"
    }
   ],
   "source": [
    "for f in fields:\n",
    "        result[f] = StockBarConverter.convert(f, table.cols[f][s:e])\n",
    "        \n",
    "result"
   ]
  },
  {
   "cell_type": "code",
   "execution_count": 57,
   "metadata": {
    "collapsed": false
   },
   "outputs": [
    {
     "data": {
      "text/plain": [
       "array([ (20050104000000,  1260.78,  1242.77,  1260.78,  1238.18,   8.16177000e+08, 4418452047),\n",
       "       (20050105000000,  1241.68,  1251.94,  1258.58,  1235.75,   8.67865100e+08, 4916589314),\n",
       "       (20050106000000,  1252.49,  1239.43,  1252.73,  1234.24,   7.92225400e+08, 4381370333),\n",
       "       ...,\n",
       "       (20170602000000,  3094.23,  3105.54,  3110.39,  3081.85,   1.42504925e+10, 154454347995),\n",
       "       (20170605000000,  3102.11,  3091.66,  3105.51,  3084.83,   1.32570300e+10, 143429802002),\n",
       "       (20170606000000,  3084.54,  3102.13,  3102.86,  3078.79,   1.13439963e+10, 127804624245)], \n",
       "      dtype=[('datetime', '<u8'), ('open', '<f8'), ('close', '<f8'), ('high', '<f8'), ('low', '<f8'), ('volume', '<f8'), ('total_turnover', '<u8')])"
      ]
     },
     "execution_count": 57,
     "metadata": {},
     "output_type": "execute_result"
    }
   ],
   "source": [
    "result['datetime'] = table.cols['date'][s:e]\n",
    "result['datetime'] *= 1000000\n",
    "\n",
    "result"
   ]
  }
 ],
 "metadata": {
  "anaconda-cloud": {},
  "kernelspec": {
   "display_name": "Python [conda root]",
   "language": "python",
   "name": "conda-root-py"
  },
  "language_info": {
   "codemirror_mode": {
    "name": "ipython",
    "version": 2.0
   },
   "file_extension": ".py",
   "mimetype": "text/x-python",
   "name": "python",
   "nbconvert_exporter": "python",
   "pygments_lexer": "ipython2",
   "version": "2.7.12"
  }
 },
 "nbformat": 4,
 "nbformat_minor": 0
}